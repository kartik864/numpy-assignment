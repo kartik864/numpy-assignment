{
 "cells": [
  {
   "cell_type": "code",
   "execution_count": 1,
   "id": "02f5449e-966b-4424-bb06-b0bd3d9e76ea",
   "metadata": {},
   "outputs": [
    {
     "name": "stdout",
     "output_type": "stream",
     "text": [
      "int64\n"
     ]
    }
   ],
   "source": [
    "#1\n",
    "import numpy as np\n",
    "\n",
    "arr = np.arange(6)\n",
    "print(arr.dtype)\n"
   ]
  },
  {
   "cell_type": "code",
   "execution_count": 2,
   "id": "9bf026b7-0861-43d8-b001-f5bba5c4336b",
   "metadata": {},
   "outputs": [
    {
     "name": "stdout",
     "output_type": "stream",
     "text": [
      "The data type is float64\n"
     ]
    }
   ],
   "source": [
    "#2\n",
    "arr = np.array([1.5, 2.6, 3.7])\n",
    "if arr.dtype == np.float64:\n",
    "    print(\"The data type is float64\")\n",
    "else:\n",
    "    print(\"The data type is not float64\")\n"
   ]
  },
  {
   "cell_type": "code",
   "execution_count": 3,
   "id": "dd67e797-d336-47c9-81e8-7c79dd175fa4",
   "metadata": {},
   "outputs": [
    {
     "name": "stdout",
     "output_type": "stream",
     "text": [
      "[1.+2.j 3.+4.j 5.+6.j]\n"
     ]
    }
   ],
   "source": [
    "#3\n",
    "arr = np.array([1+2j, 3+4j, 5+6j], dtype=np.complex128)\n",
    "print(arr)\n"
   ]
  },
  {
   "cell_type": "code",
   "execution_count": 4,
   "id": "673f8987-230e-48cd-bf2d-a852ddac22a0",
   "metadata": {},
   "outputs": [
    {
     "name": "stdout",
     "output_type": "stream",
     "text": [
      "[1. 2. 3. 4. 5.]\n"
     ]
    }
   ],
   "source": [
    "#4\n",
    "arr = np.array([1, 2, 3, 4, 5])\n",
    "arr_float32 = arr.astype(np.float32)\n",
    "print(arr_float32)\n"
   ]
  },
  {
   "cell_type": "code",
   "execution_count": 5,
   "id": "f511c955-b4fd-45a2-9022-0dbc8b326b94",
   "metadata": {},
   "outputs": [
    {
     "name": "stdout",
     "output_type": "stream",
     "text": [
      "[1.2345679 2.3456788 3.456789 ]\n"
     ]
    }
   ],
   "source": [
    "#5\n",
    "arr = np.array([1.234567890123456, 2.345678901234567, 3.456789012345678], dtype=np.float64)\n",
    "arr_float32 = arr.astype(np.float32)\n",
    "print(arr_float32)\n"
   ]
  },
  {
   "cell_type": "code",
   "execution_count": 6,
   "id": "d321649f-e857-44f3-8879-7275caeb0679",
   "metadata": {},
   "outputs": [
    {
     "name": "stdout",
     "output_type": "stream",
     "text": [
      "((5,), 5, dtype('int64'))\n"
     ]
    }
   ],
   "source": [
    "#6\n",
    "def array_attributes(arr):\n",
    "    return arr.shape, arr.size, arr.dtype\n",
    "\n",
    "arr = np.array([1, 2, 3, 4, 5])\n",
    "print(array_attributes(arr))\n"
   ]
  },
  {
   "cell_type": "code",
   "execution_count": 7,
   "id": "63571064-4baa-44ad-9a41-cc57a1dab5be",
   "metadata": {},
   "outputs": [
    {
     "name": "stdout",
     "output_type": "stream",
     "text": [
      "2\n"
     ]
    }
   ],
   "source": [
    "#7\n",
    "def array_dimension(arr):\n",
    "    return arr.ndim\n",
    "\n",
    "arr = np.array([[1, 2, 3], [4, 5, 6]])\n",
    "print(array_dimension(arr))\n"
   ]
  },
  {
   "cell_type": "code",
   "execution_count": 8,
   "id": "d7c8ba33-4f0e-4682-82c5-f8f4f10a7fbe",
   "metadata": {},
   "outputs": [
    {
     "name": "stdout",
     "output_type": "stream",
     "text": [
      "(4, 20)\n"
     ]
    }
   ],
   "source": [
    "#8\n",
    "import numpy as np\n",
    "\n",
    "def item_size_info(arr):\n",
    "    item_size = arr.itemsize  # Size of one element in bytes\n",
    "    total_size = arr.nbytes  # Total size in bytes\n",
    "    return item_size, total_size\n",
    "\n",
    "# Example usage\n",
    "arr = np.array([1, 2, 3, 4, 5], dtype=np.int32)\n",
    "print(item_size_info(arr))\n"
   ]
  },
  {
   "cell_type": "code",
   "execution_count": 9,
   "id": "5f7c19e9-bc69-4d1a-bd75-51963323d49a",
   "metadata": {},
   "outputs": [
    {
     "name": "stdout",
     "output_type": "stream",
     "text": [
      "(12, 4)\n"
     ]
    }
   ],
   "source": [
    "#9\n",
    "import numpy as np\n",
    "\n",
    "def array_strides(arr):\n",
    "    return arr.strides\n",
    "\n",
    "# Example usage\n",
    "arr = np.array([[1, 2, 3], [4, 5, 6]], dtype=np.int32)\n",
    "print(array_strides(arr))\n"
   ]
  },
  {
   "cell_type": "code",
   "execution_count": 10,
   "id": "43b48f7e-0d99-4581-874e-9bc82ba159cf",
   "metadata": {},
   "outputs": [
    {
     "name": "stdout",
     "output_type": "stream",
     "text": [
      "((2, 3), (24, 8))\n"
     ]
    }
   ],
   "source": [
    "#10\n",
    "import numpy as np\n",
    "\n",
    "def shape_stride_relationship(arr):\n",
    "    return arr.shape, arr.strides\n",
    "\n",
    "# Example usage\n",
    "arr = np.array([[1, 2, 3], [4, 5, 6]])\n",
    "print(shape_stride_relationship(arr))\n"
   ]
  },
  {
   "cell_type": "code",
   "execution_count": 11,
   "id": "438c4c30-bd4f-43ea-9ef1-bf0862c227cd",
   "metadata": {},
   "outputs": [
    {
     "name": "stdout",
     "output_type": "stream",
     "text": [
      "[0. 0. 0. 0. 0.]\n"
     ]
    }
   ],
   "source": [
    "#11\n",
    "import numpy as np\n",
    "\n",
    "def create_zeros_array(n):\n",
    "    return np.zeros(n)\n",
    "\n",
    "# Example usage\n",
    "print(create_zeros_array(5))\n"
   ]
  },
  {
   "cell_type": "code",
   "execution_count": 12,
   "id": "85cff237-415f-40d1-8b76-4451ebd77461",
   "metadata": {},
   "outputs": [
    {
     "name": "stdout",
     "output_type": "stream",
     "text": [
      "[[1. 1. 1. 1.]\n",
      " [1. 1. 1. 1.]\n",
      " [1. 1. 1. 1.]]\n"
     ]
    }
   ],
   "source": [
    "#12\n",
    "import numpy as np\n",
    "\n",
    "def create_ones_matrix(rows, cols):\n",
    "    return np.ones((rows, cols))\n",
    "\n",
    "# Example usage\n",
    "print(create_ones_matrix(3, 4))\n"
   ]
  },
  {
   "cell_type": "code",
   "execution_count": 13,
   "id": "b96c0162-b7f5-4f4d-a9e9-fbc966e26748",
   "metadata": {},
   "outputs": [
    {
     "name": "stdout",
     "output_type": "stream",
     "text": [
      "[0 2 4 6 8]\n"
     ]
    }
   ],
   "source": [
    "#13\n",
    "import numpy as np\n",
    "\n",
    "def generate_range_array(start, stop, step):\n",
    "    return np.arange(start, stop, step)\n",
    "\n",
    "# Example usage\n",
    "print(generate_range_array(0, 10, 2))\n"
   ]
  },
  {
   "cell_type": "code",
   "execution_count": 14,
   "id": "686c6e4f-b2a1-46c9-92b3-6a994f191a2b",
   "metadata": {},
   "outputs": [
    {
     "name": "stdout",
     "output_type": "stream",
     "text": [
      "[0.   0.25 0.5  0.75 1.  ]\n"
     ]
    }
   ],
   "source": [
    "#14\n",
    "import numpy as np\n",
    "\n",
    "def generate_linear_space(start, stop, num):\n",
    "    return np.linspace(start, stop, num)\n",
    "\n",
    "# Example usage\n",
    "print(generate_linear_space(0.0, 1.0, 5))\n"
   ]
  },
  {
   "cell_type": "code",
   "execution_count": 15,
   "id": "671f5761-9ac2-4290-8637-671dd29bcc4c",
   "metadata": {},
   "outputs": [
    {
     "name": "stdout",
     "output_type": "stream",
     "text": [
      "[[1. 0. 0.]\n",
      " [0. 1. 0.]\n",
      " [0. 0. 1.]]\n"
     ]
    }
   ],
   "source": [
    "#15\n",
    "import numpy as np\n",
    "\n",
    "def create_identity_matrix(n):\n",
    "    return np.eye(n)\n",
    "\n",
    "# Example usage\n",
    "print(create_identity_matrix(3))\n"
   ]
  },
  {
   "cell_type": "code",
   "execution_count": 16,
   "id": "4ffadfd8-9f5e-45d1-a78c-c6a8bcf6a536",
   "metadata": {},
   "outputs": [
    {
     "name": "stdout",
     "output_type": "stream",
     "text": [
      "[1 2 3 4 5]\n"
     ]
    }
   ],
   "source": [
    "#16\n",
    "import numpy as np\n",
    "\n",
    "def list_to_numpy_array(py_list):\n",
    "    return np.array(py_list)\n",
    "\n",
    "# Example usage\n",
    "my_list = [1, 2, 3, 4, 5]\n",
    "print(list_to_numpy_array(my_list))\n"
   ]
  },
  {
   "cell_type": "code",
   "execution_count": 17,
   "id": "b258b9c9-1ce9-470d-bab8-f67036a3e018",
   "metadata": {},
   "outputs": [
    {
     "name": "stdout",
     "output_type": "stream",
     "text": [
      "Original Array: [9.8 2.6 3.7]\n",
      "View Array: [9.8 2.6 3.7]\n"
     ]
    }
   ],
   "source": [
    "#17\n",
    "import numpy as np\n",
    "\n",
    "# Creating the original NumPy array\n",
    "arr = np.array([1.5, 2.6, 3.7])\n",
    "\n",
    "# Creating a view of the original array\n",
    "arr_view = arr.view()\n",
    "\n",
    "# Modifying the view will reflect in the original array\n",
    "arr_view[0] = 9.8\n",
    "\n",
    "print(\"Original Array:\", arr)\n",
    "print(\"View Array:\", arr_view)\n"
   ]
  },
  {
   "cell_type": "code",
   "execution_count": 18,
   "id": "a97141f4-987f-4cd2-9c2c-d578049631d6",
   "metadata": {},
   "outputs": [
    {
     "name": "stdout",
     "output_type": "stream",
     "text": [
      "[[1 2]\n",
      " [3 4]\n",
      " [5 6]\n",
      " [7 8]]\n",
      "[[1 2 5 6]\n",
      " [3 4 7 8]]\n"
     ]
    }
   ],
   "source": [
    "#18\n",
    "import numpy as np\n",
    "\n",
    "def concatenate_arrays(arr1, arr2, axis=0):\n",
    "    return np.concatenate((arr1, arr2), axis=axis)\n",
    "\n",
    "# Example usage\n",
    "arr1 = np.array([[1, 2], [3, 4]])\n",
    "arr2 = np.array([[5, 6], [7, 8]])\n",
    "print(concatenate_arrays(arr1, arr2, axis=0))\n",
    "print(concatenate_arrays(arr1, arr2, axis=1))\n"
   ]
  },
  {
   "cell_type": "code",
   "execution_count": 19,
   "id": "2acdee67-2e1c-473d-a597-5c546d8f7a27",
   "metadata": {},
   "outputs": [
    {
     "name": "stdout",
     "output_type": "stream",
     "text": [
      "[[1 2 3]\n",
      " [4 5 6]\n",
      " [7 8 9]]\n"
     ]
    }
   ],
   "source": [
    "#19\n",
    "import numpy as np\n",
    "\n",
    "# Creating two arrays with different shapes\n",
    "arr1 = np.array([[1, 2, 3]])\n",
    "arr2 = np.array([[4, 5, 6], [7, 8, 9]])\n",
    "\n",
    "# Concatenating horizontally (along axis 1)\n",
    "concatenated = np.concatenate((arr1, arr2), axis=0)\n",
    "\n",
    "print(concatenated)\n"
   ]
  },
  {
   "cell_type": "code",
   "execution_count": 20,
   "id": "0573b0da-e69d-4eb2-a982-2635506cf943",
   "metadata": {},
   "outputs": [
    {
     "name": "stdout",
     "output_type": "stream",
     "text": [
      "[[1 2 3]\n",
      " [4 5 6]\n",
      " [7 8 9]]\n"
     ]
    }
   ],
   "source": [
    "#20\n",
    "import numpy as np\n",
    "\n",
    "def vertical_stack(arr_list):\n",
    "    return np.vstack(arr_list)\n",
    "\n",
    "# Example usage\n",
    "arr1 = np.array([1, 2, 3])\n",
    "arr2 = np.array([4, 5, 6])\n",
    "arr3 = np.array([7, 8, 9])\n",
    "print(vertical_stack([arr1, arr2, arr3]))\n"
   ]
  },
  {
   "cell_type": "code",
   "execution_count": 21,
   "id": "90e98de4-d1fc-47f9-89a3-e1ce2a70c06d",
   "metadata": {},
   "outputs": [
    {
     "name": "stdout",
     "output_type": "stream",
     "text": [
      "[1 3 5 7 9]\n"
     ]
    }
   ],
   "source": [
    "#21\n",
    "import numpy as np\n",
    "\n",
    "def generate_range_array(start, stop, step):\n",
    "    return np.arange(start, stop+1, step)\n",
    "\n",
    "# Example usage\n",
    "print(generate_range_array(1, 10, 2))\n"
   ]
  },
  {
   "cell_type": "code",
   "execution_count": 22,
   "id": "8dd6015e-36e5-4ce9-8b9c-7cb00be1ff10",
   "metadata": {},
   "outputs": [
    {
     "name": "stdout",
     "output_type": "stream",
     "text": [
      "[0.         0.11111111 0.22222222 0.33333333 0.44444444 0.55555556\n",
      " 0.66666667 0.77777778 0.88888889 1.        ]\n"
     ]
    }
   ],
   "source": [
    "#22\n",
    "import numpy as np\n",
    "\n",
    "def generate_equal_space():\n",
    "    return np.linspace(0, 1, 10)\n",
    "\n",
    "# Example usage\n",
    "print(generate_equal_space())\n"
   ]
  },
  {
   "cell_type": "code",
   "execution_count": 23,
   "id": "afc35162-3ffa-4eea-b476-20103e861bc8",
   "metadata": {},
   "outputs": [
    {
     "name": "stdout",
     "output_type": "stream",
     "text": [
      "[   1.            5.62341325   31.6227766   177.827941   1000.        ]\n"
     ]
    }
   ],
   "source": [
    "#23\n",
    "import numpy as np\n",
    "\n",
    "def generate_log_space():\n",
    "    return np.logspace(0, 3, 5)\n",
    "\n",
    "# Example usage\n",
    "print(generate_log_space())\n"
   ]
  },
  {
   "cell_type": "code",
   "execution_count": 24,
   "id": "9f437f5f-f3eb-483f-8818-fc36badbe9a1",
   "metadata": {},
   "outputs": [
    {
     "name": "stdout",
     "output_type": "stream",
     "text": [
      "   A  B  C\n",
      "0  1  2  3\n",
      "1  4  5  6\n",
      "2  7  8  9\n"
     ]
    }
   ],
   "source": [
    "#24\n",
    "import numpy as np\n",
    "import pandas as pd\n",
    "\n",
    "def create_dataframe():\n",
    "    data = np.array([[1, 2, 3], [4, 5, 6], [7, 8, 9]])\n",
    "    df = pd.DataFrame(data, columns=['A', 'B', 'C'])\n",
    "    return df\n",
    "\n",
    "# Example usage\n",
    "print(create_dataframe())\n"
   ]
  },
  {
   "cell_type": "code",
   "execution_count": 25,
   "id": "888af5f5-8455-49a9-a2fd-f767ee28dcc1",
   "metadata": {},
   "outputs": [
    {
     "name": "stdout",
     "output_type": "stream",
     "text": [
      "   A  B\n",
      "0  1  5\n",
      "1  0 -6\n",
      "2  3  7\n",
      "3  0 -8\n",
      "4  5  9\n"
     ]
    }
   ],
   "source": [
    "#25\n",
    "import pandas as pd\n",
    "import numpy as np\n",
    "\n",
    "def replace_negatives_with_zeros(df, column_name):\n",
    "    df[column_name] = np.where(df[column_name] < 0, 0, df[column_name])\n",
    "    return df\n",
    "\n",
    "# Example usage\n",
    "data = {'A': [1, -2, 3, -4, 5], 'B': [5, -6, 7, -8, 9]}\n",
    "df = pd.DataFrame(data)\n",
    "print(replace_negatives_with_zeros(df, 'A'))\n"
   ]
  },
  {
   "cell_type": "code",
   "execution_count": 26,
   "id": "6372b926-7b69-489a-b6dc-7ad5e9b34005",
   "metadata": {},
   "outputs": [
    {
     "name": "stdout",
     "output_type": "stream",
     "text": [
      "30\n"
     ]
    }
   ],
   "source": [
    "#26\n",
    "import numpy as np\n",
    "\n",
    "arr = np.array([10, 20, 30, 40, 50])\n",
    "\n",
    "# Accessing the 3rd element (index 2)\n",
    "third_element = arr[2]\n",
    "print(third_element)\n"
   ]
  },
  {
   "cell_type": "code",
   "execution_count": 27,
   "id": "6df8a660-7a0d-416a-9736-7752cc35d721",
   "metadata": {},
   "outputs": [
    {
     "name": "stdout",
     "output_type": "stream",
     "text": [
      "6\n"
     ]
    }
   ],
   "source": [
    "#27\n",
    "import numpy as np\n",
    "\n",
    "arr_2d = np.array([[1, 2, 3],\n",
    "                   [4, 5, 6],\n",
    "                   [7, 8, 9]])\n",
    "\n",
    "# Retrieving the element at index (1, 2)\n",
    "element = arr_2d[1, 2]\n",
    "print(element)\n"
   ]
  },
  {
   "cell_type": "code",
   "execution_count": 28,
   "id": "9d12ab54-5170-4e98-b251-af59dc6b7dad",
   "metadata": {},
   "outputs": [
    {
     "name": "stdout",
     "output_type": "stream",
     "text": [
      "[ 8 10  7]\n"
     ]
    }
   ],
   "source": [
    "#28\n",
    "import numpy as np\n",
    "\n",
    "arr = np.array([3, 8, 2, 10, 5, 7])\n",
    "\n",
    "# Extracting elements greater than 5\n",
    "greater_than_five = arr[arr > 5]\n",
    "print(greater_than_five)\n"
   ]
  },
  {
   "cell_type": "code",
   "execution_count": 29,
   "id": "e4b7280e-a458-4f51-a604-1c92a69ed15d",
   "metadata": {},
   "outputs": [
    {
     "name": "stdout",
     "output_type": "stream",
     "text": [
      "[3 4 5 6]\n"
     ]
    }
   ],
   "source": [
    "#29\n",
    "import numpy as np\n",
    "\n",
    "arr = np.array([1, 2, 3, 4, 5, 6, 7, 8, 9])\n",
    "\n",
    "# Extracting elements from index 2 to 5 (inclusive)\n",
    "sliced_arr = arr[2:6]  # Slicing up to index 6 to include the element at index 5\n",
    "print(sliced_arr)\n"
   ]
  },
  {
   "cell_type": "code",
   "execution_count": 30,
   "id": "8dd63f55-57e6-43e4-8da2-7ebd1ab825df",
   "metadata": {},
   "outputs": [
    {
     "name": "stdout",
     "output_type": "stream",
     "text": [
      "[[2 3]\n",
      " [5 6]]\n"
     ]
    }
   ],
   "source": [
    "#30\n",
    "import numpy as np\n",
    "\n",
    "arr_2d = np.array([[1, 2, 3],\n",
    "                   [4, 5, 6],\n",
    "                   [7, 8, 9]])\n",
    "\n",
    "# Slicing to extract the sub-array [[2, 3], [5, 6]]\n",
    "sub_array = arr_2d[0:2, 1:3]\n",
    "print(sub_array)\n"
   ]
  },
  {
   "cell_type": "code",
   "execution_count": 31,
   "id": "03f4b3ac-1bf0-4ec8-96ad-fcf12f502706",
   "metadata": {},
   "outputs": [
    {
     "name": "stdout",
     "output_type": "stream",
     "text": [
      "[3 5 7]\n"
     ]
    }
   ],
   "source": [
    "#31\n",
    "import numpy as np\n",
    "\n",
    "def extract_elements_2d(arr, row_indices, col_indices):\n",
    "    return arr[row_indices, col_indices]\n",
    "\n",
    "# Example usage\n",
    "arr = np.array([[1, 2, 3],\n",
    "                [4, 5, 6],\n",
    "                [7, 8, 9]])\n",
    "row_indices = np.array([0, 1, 2])\n",
    "col_indices = np.array([2, 1, 0])\n",
    "\n",
    "extracted_elements = extract_elements_2d(arr, row_indices, col_indices)\n",
    "print(extracted_elements)\n"
   ]
  },
  {
   "cell_type": "code",
   "execution_count": 32,
   "id": "f2cdf727-c149-4cd3-acdc-e7a2ec5afbe9",
   "metadata": {},
   "outputs": [
    {
     "name": "stdout",
     "output_type": "stream",
     "text": [
      "[20 25]\n"
     ]
    }
   ],
   "source": [
    "#32\n",
    "import numpy as np\n",
    "\n",
    "def filter_greater_than_threshold(arr, threshold):\n",
    "    return arr[arr > threshold]\n",
    "\n",
    "# Example usage\n",
    "arr = np.array([10, 20, 5, 15, 25])\n",
    "threshold = 15\n",
    "\n",
    "filtered_arr = filter_greater_than_threshold(arr, threshold)\n",
    "print(filtered_arr)\n"
   ]
  },
  {
   "cell_type": "code",
   "execution_count": 33,
   "id": "618a0286-3a28-491a-9f70-d915340598f9",
   "metadata": {},
   "outputs": [
    {
     "name": "stdout",
     "output_type": "stream",
     "text": [
      "[ 5 10 24]\n"
     ]
    }
   ],
   "source": [
    "#33\n",
    "import numpy as np\n",
    "\n",
    "def extract_elements_3d(arr, x_indices, y_indices, z_indices):\n",
    "    return arr[x_indices, y_indices, z_indices]\n",
    "\n",
    "# Example usage\n",
    "arr = np.arange(27).reshape(3, 3, 3)\n",
    "x_indices = np.array([0, 1, 2])\n",
    "y_indices = np.array([1, 0, 2])\n",
    "z_indices = np.array([2, 1, 0])\n",
    "\n",
    "extracted_elements = extract_elements_3d(arr, x_indices, y_indices, z_indices)\n",
    "print(extracted_elements)\n"
   ]
  },
  {
   "cell_type": "code",
   "execution_count": 34,
   "id": "6371147a-9b17-4101-aa36-23da28fb3ed9",
   "metadata": {},
   "outputs": [
    {
     "name": "stdout",
     "output_type": "stream",
     "text": [
      "[20 15]\n"
     ]
    }
   ],
   "source": [
    "#34\n",
    "import numpy as np\n",
    "\n",
    "def filter_by_two_conditions(arr, condition1, condition2):\n",
    "    return arr[np.logical_and(condition1, condition2)]\n",
    "\n",
    "# Example usage\n",
    "arr = np.array([10, 20, 5, 15, 25])\n",
    "condition1 = arr > 10\n",
    "condition2 = arr < 25\n",
    "\n",
    "filtered_arr = filter_by_two_conditions(arr, condition1, condition2)\n",
    "print(filtered_arr)\n"
   ]
  },
  {
   "cell_type": "code",
   "execution_count": 35,
   "id": "a5e4b9d3-ae7b-416d-9743-2ebd613c104c",
   "metadata": {},
   "outputs": [
    {
     "name": "stdout",
     "output_type": "stream",
     "text": [
      "[2 9]\n"
     ]
    }
   ],
   "source": [
    "#35\n",
    "import numpy as np\n",
    "\n",
    "def extract_elements_by_indices(arr, row_indices, col_indices):\n",
    "    return arr[row_indices, col_indices]\n",
    "\n",
    "# Example usage\n",
    "arr = np.array([[1, 2, 3],\n",
    "                [4, 5, 6],\n",
    "                [7, 8, 9]])\n",
    "row_indices = np.array([0, 2])\n",
    "col_indices = np.array([1, 2])\n",
    "\n",
    "extracted_elements = extract_elements_by_indices(arr, row_indices, col_indices)\n",
    "print(extracted_elements)\n"
   ]
  },
  {
   "cell_type": "code",
   "execution_count": 36,
   "id": "5ec3b4e4-970d-454f-a77c-5637ba084310",
   "metadata": {},
   "outputs": [
    {
     "name": "stdout",
     "output_type": "stream",
     "text": [
      "[[ 6  7  8]\n",
      " [ 9 10 11]\n",
      " [12 13 14]]\n"
     ]
    }
   ],
   "source": [
    "#36\n",
    "import numpy as np\n",
    "\n",
    "def add_scalar(arr, scalar):\n",
    "    return arr + scalar\n",
    "\n",
    "# Example usage\n",
    "arr = np.array([[1, 2, 3],\n",
    "                [4, 5, 6],\n",
    "                [7, 8, 9]])\n",
    "\n",
    "result = add_scalar(arr, 5)\n",
    "print(result)\n"
   ]
  },
  {
   "cell_type": "code",
   "execution_count": 37,
   "id": "2c96c45d-30af-408b-a7e4-a2d6871d8e34",
   "metadata": {},
   "outputs": [
    {
     "name": "stdout",
     "output_type": "stream",
     "text": [
      "[[ 4  5  6  7]\n",
      " [16 18 20 22]\n",
      " [36 39 42 45]]\n"
     ]
    }
   ],
   "source": [
    "#37\n",
    "import numpy as np\n",
    "\n",
    "def multiply_rows_by_elements(arr1, arr2):\n",
    "    return arr1 * arr2\n",
    "\n",
    "# Example usage\n",
    "arr1 = np.array([[1, 2, 3]])\n",
    "arr2 = np.array([[4, 5, 6, 7],\n",
    "                 [8, 9, 10, 11],\n",
    "                 [12, 13, 14, 15]])\n",
    "\n",
    "result = multiply_rows_by_elements(arr1.T, arr2)\n",
    "print(result)\n"
   ]
  },
  {
   "cell_type": "code",
   "execution_count": 38,
   "id": "5d124dcf-b29a-461e-b8e2-fc5568d5913f",
   "metadata": {},
   "outputs": [
    {
     "name": "stdout",
     "output_type": "stream",
     "text": [
      "[[ 6  8 10 12]\n",
      " [10 12 14 16]\n",
      " [14 16 18 20]]\n"
     ]
    }
   ],
   "source": [
    "#38\n",
    "import numpy as np\n",
    "\n",
    "def add_arr1_to_arr2(arr1, arr2):\n",
    "    return arr1 + arr2\n",
    "\n",
    "# Example usage\n",
    "arr1 = np.array([[1, 2, 3, 4]])\n",
    "arr2 = np.array([[5, 6, 7, 8],\n",
    "                 [9, 10, 11, 12],\n",
    "                 [13, 14, 15, 16]])\n",
    "\n",
    "result = add_arr1_to_arr2(arr1, arr2)\n",
    "print(result)\n"
   ]
  },
  {
   "cell_type": "code",
   "execution_count": 39,
   "id": "e78e392d-163e-4793-812f-b436dfba7d02",
   "metadata": {},
   "outputs": [
    {
     "name": "stdout",
     "output_type": "stream",
     "text": [
      "[[5 6 7]\n",
      " [6 7 8]\n",
      " [7 8 9]]\n"
     ]
    }
   ],
   "source": [
    "#39\n",
    "import numpy as np\n",
    "\n",
    "def add_broadcasted(arr1, arr2):\n",
    "    return arr1 + arr2\n",
    "\n",
    "# Example usage\n",
    "arr1 = np.array([[1], [2], [3]])\n",
    "arr2 = np.array([[4, 5, 6]])\n",
    "\n",
    "result = add_broadcasted(arr1, arr2)\n",
    "print(result)\n"
   ]
  },
  {
   "cell_type": "code",
   "execution_count": 40,
   "id": "55339da1-67e3-418b-92b4-253434a2b8b8",
   "metadata": {},
   "outputs": [
    {
     "name": "stdout",
     "output_type": "stream",
     "text": [
      "Shape incompatibility:  operands could not be broadcast together with shapes (2,3) (2,2) \n",
      "None\n"
     ]
    }
   ],
   "source": [
    "#40\n",
    "import numpy as np\n",
    "\n",
    "def multiply_with_broadcasting(arr1, arr2):\n",
    "    try:\n",
    "        result = arr1 * arr2\n",
    "    except ValueError as e:\n",
    "        print(\"Shape incompatibility: \", e)\n",
    "        return None\n",
    "    return result\n",
    "\n",
    "# Example usage\n",
    "arr1 = np.array([[1, 2, 3],\n",
    "                 [4, 5, 6]])\n",
    "arr2 = np.array([[7, 8],\n",
    "                 [9, 10]])\n",
    "\n",
    "result = multiply_with_broadcasting(arr1, arr2)\n",
    "print(result)\n"
   ]
  },
  {
   "cell_type": "code",
   "execution_count": 41,
   "id": "016e70de-22b7-4f57-8168-f22f12ee7058",
   "metadata": {},
   "outputs": [
    {
     "name": "stdout",
     "output_type": "stream",
     "text": [
      "[2.5 3.5 4.5]\n"
     ]
    }
   ],
   "source": [
    "#41\n",
    "import numpy as np\n",
    "\n",
    "def column_wise_mean(arr):\n",
    "    return np.mean(arr, axis=0)\n",
    "\n",
    "# Example usage\n",
    "arr = np.array([[1, 2, 3],\n",
    "                [4, 5, 6]])\n",
    "\n",
    "column_means = column_wise_mean(arr)\n",
    "print(column_means)\n"
   ]
  },
  {
   "cell_type": "code",
   "execution_count": 42,
   "id": "d2624066-526d-4204-b043-ff66e56f0ca3",
   "metadata": {},
   "outputs": [
    {
     "name": "stdout",
     "output_type": "stream",
     "text": [
      "[3 6]\n"
     ]
    }
   ],
   "source": [
    "#42\n",
    "import numpy as np\n",
    "\n",
    "def row_wise_max(arr):\n",
    "    return np.max(arr, axis=1)\n",
    "\n",
    "# Example usage\n",
    "arr = np.array([[1, 2, 3],\n",
    "                [4, 5, 6]])\n",
    "\n",
    "row_max_values = row_wise_max(arr)\n",
    "print(row_max_values)\n"
   ]
  },
  {
   "cell_type": "code",
   "execution_count": 43,
   "id": "f807b106-ea02-489f-a57a-802938e6325d",
   "metadata": {},
   "outputs": [
    {
     "name": "stdout",
     "output_type": "stream",
     "text": [
      "[1 1 1]\n"
     ]
    }
   ],
   "source": [
    "#43\n",
    "import numpy as np\n",
    "\n",
    "def max_value_indices_per_column(arr):\n",
    "    return np.argmax(arr, axis=0)\n",
    "\n",
    "# Example usage\n",
    "arr = np.array([[1, 2, 3],\n",
    "                [4, 5, 6]])\n",
    "\n",
    "max_indices = max_value_indices_per_column(arr)\n",
    "print(max_indices)\n"
   ]
  },
  {
   "cell_type": "code",
   "execution_count": 44,
   "id": "d654bcc9-9682-44e5-bf53-5c19826a3cee",
   "metadata": {},
   "outputs": [
    {
     "name": "stdout",
     "output_type": "stream",
     "text": [
      "[[ 3.  5.]\n",
      " [ 9. 11.]]\n"
     ]
    }
   ],
   "source": [
    "#44\n",
    "import numpy as np\n",
    "\n",
    "def moving_sum(arr, window_size):\n",
    "    return np.apply_along_axis(lambda x: np.convolve(x, np.ones(window_size), 'valid'), axis=1, arr=arr)\n",
    "\n",
    "# Example usage\n",
    "arr = np.array([[1, 2, 3],\n",
    "                [4, 5, 6]])\n",
    "window_size = 2\n",
    "\n",
    "moving_sums = moving_sum(arr, window_size)\n",
    "print(moving_sums)\n"
   ]
  },
  {
   "cell_type": "code",
   "execution_count": 45,
   "id": "0368f653-8c42-480d-bf49-a6269c875db0",
   "metadata": {},
   "outputs": [
    {
     "name": "stdout",
     "output_type": "stream",
     "text": [
      "[False False False]\n"
     ]
    }
   ],
   "source": [
    "#45\n",
    "import numpy as np\n",
    "\n",
    "def all_even_in_columns(arr):\n",
    "    return np.all(arr % 2 == 0, axis=0)\n",
    "\n",
    "# Example usage\n",
    "arr = np.array([[2, 4, 6],\n",
    "                [3, 5, 7]])\n",
    "\n",
    "all_even = all_even_in_columns(arr)\n",
    "print(all_even)\n"
   ]
  },
  {
   "cell_type": "code",
   "execution_count": 46,
   "id": "ef686016-643a-426d-8e01-e7ce7c166123",
   "metadata": {},
   "outputs": [
    {
     "name": "stdout",
     "output_type": "stream",
     "text": [
      "[[1 2 3]\n",
      " [4 5 6]]\n"
     ]
    }
   ],
   "source": [
    "#46\n",
    "import numpy as np\n",
    "\n",
    "def reshape_array(arr, m, n):\n",
    "    return arr.reshape(m, n)\n",
    "\n",
    "# Example usage\n",
    "arr = np.array([1, 2, 3, 4, 5, 6])\n",
    "reshaped_matrix = reshape_array(arr, 2, 3)\n",
    "print(reshaped_matrix)\n"
   ]
  },
  {
   "cell_type": "code",
   "execution_count": 47,
   "id": "24d90aee-a253-4ab7-9c79-af8da4f20c99",
   "metadata": {},
   "outputs": [
    {
     "name": "stdout",
     "output_type": "stream",
     "text": [
      "[1 2 3 4 5 6]\n"
     ]
    }
   ],
   "source": [
    "#47\n",
    "import numpy as np\n",
    "\n",
    "def flatten_matrix(matrix):\n",
    "    return matrix.flatten()\n",
    "\n",
    "# Example usage\n",
    "input_matrix = np.array([[1, 2, 3], [4, 5, 6]])\n",
    "flattened_array = flatten_matrix(input_matrix)\n",
    "print(flattened_array)\n"
   ]
  },
  {
   "cell_type": "code",
   "execution_count": 48,
   "id": "77bd350b-88b9-4b24-9c7c-be8eda559a50",
   "metadata": {},
   "outputs": [
    {
     "name": "stdout",
     "output_type": "stream",
     "text": [
      "[[1 2]\n",
      " [3 4]\n",
      " [5 6]\n",
      " [7 8]]\n"
     ]
    }
   ],
   "source": [
    "#48\n",
    "import numpy as np\n",
    "\n",
    "def concatenate_arrays(arr1, arr2, axis=0):\n",
    "    return np.concatenate((arr1, arr2), axis=axis)\n",
    "\n",
    "# Example usage\n",
    "array1 = np.array([[1, 2], [3, 4]])\n",
    "array2 = np.array([[5, 6], [7, 8]])\n",
    "concatenated_array = concatenate_arrays(array1, array2, axis=0)\n",
    "print(concatenated_array)\n"
   ]
  },
  {
   "cell_type": "code",
   "execution_count": 49,
   "id": "eb1fe945-f9bb-49be-b835-fc70d48832b0",
   "metadata": {},
   "outputs": [
    {
     "name": "stdout",
     "output_type": "stream",
     "text": [
      "[array([[1],\n",
      "       [4],\n",
      "       [7]]), array([[2],\n",
      "       [5],\n",
      "       [8]]), array([[3],\n",
      "       [6],\n",
      "       [9]])]\n"
     ]
    }
   ],
   "source": [
    "#49\n",
    "import numpy as np\n",
    "\n",
    "def split_array(arr, num_splits, axis=0):\n",
    "    return np.array_split(arr, num_splits, axis=axis)\n",
    "\n",
    "# Example usage\n",
    "original_array = np.array([[1, 2, 3], [4, 5, 6], [7, 8, 9]])\n",
    "sub_arrays = split_array(original_array, 3, axis=1)\n",
    "print(sub_arrays)\n"
   ]
  },
  {
   "cell_type": "code",
   "execution_count": 50,
   "id": "cd0817dd-4dfc-44f6-a757-94752944ae18",
   "metadata": {},
   "outputs": [
    {
     "name": "stdout",
     "output_type": "stream",
     "text": [
      "[ 1 10  4 11  5]\n"
     ]
    }
   ],
   "source": [
    "#50\n",
    "import numpy as np\n",
    "\n",
    "def insert_and_delete(arr, insert_indices, insert_values, delete_indices):\n",
    "    arr = np.insert(arr, insert_indices, insert_values)\n",
    "    arr = np.delete(arr, delete_indices)\n",
    "    return arr\n",
    "\n",
    "# Example usage\n",
    "original_array = np.array([1, 2, 3, 4, 5])\n",
    "indices_to_insert = [2, 4]\n",
    "values_to_insert = [10, 11]\n",
    "indices_to_delete = [1, 3]\n",
    "\n",
    "modified_array = insert_and_delete(original_array, indices_to_insert, values_to_insert, indices_to_delete)\n",
    "print(modified_array)\n"
   ]
  },
  {
   "cell_type": "code",
   "execution_count": 51,
   "id": "341996e4-8872-46ab-a7a2-ef6a667775db",
   "metadata": {},
   "outputs": [
    {
     "name": "stdout",
     "output_type": "stream",
     "text": [
      "[ 8  7 12 11 11]\n"
     ]
    }
   ],
   "source": [
    "#51\n",
    "import numpy as np\n",
    "\n",
    "def element_wise_addition(arr1, arr2):\n",
    "    return arr1 + arr2\n",
    "\n",
    "# Example usage\n",
    "arr1 = np.random.randint(1, 10, size=(5,))\n",
    "arr2 = np.array([1, 2, 3, 4, 5])\n",
    "result = element_wise_addition(arr1, arr2)\n",
    "print(result)\n"
   ]
  },
  {
   "cell_type": "code",
   "execution_count": 52,
   "id": "f70ef649-bf19-4b60-93bb-7289345ed6ff",
   "metadata": {},
   "outputs": [
    {
     "name": "stdout",
     "output_type": "stream",
     "text": [
      "[ 9  7  5  3  1 -1 -3 -5 -7 -9]\n"
     ]
    }
   ],
   "source": [
    "#52\n",
    "import numpy as np\n",
    "\n",
    "def element_wise_subtraction(arr1, arr2):\n",
    "    return arr1 - arr2\n",
    "\n",
    "# Example usage\n",
    "arr1 = np.arange(10, 0, -1)\n",
    "arr2 = np.arange(1, 11)\n",
    "result = element_wise_subtraction(arr1, arr2)\n",
    "print(result)\n"
   ]
  },
  {
   "cell_type": "code",
   "execution_count": 53,
   "id": "11b6537f-92d4-4f33-964f-f9f22065bed6",
   "metadata": {},
   "outputs": [
    {
     "name": "stdout",
     "output_type": "stream",
     "text": [
      "[ 9 16 15 12  5]\n"
     ]
    }
   ],
   "source": [
    "#53\n",
    "import numpy as np\n",
    "\n",
    "def element_wise_multiplication(arr1, arr2):\n",
    "    return arr1 * arr2\n",
    "\n",
    "# Example usage\n",
    "arr1 = np.random.randint(1, 10, size=(5,))\n",
    "arr2 = np.array([1, 2, 3, 4, 5])\n",
    "result = element_wise_multiplication(arr1, arr2)\n",
    "print(result)\n"
   ]
  },
  {
   "cell_type": "code",
   "execution_count": 54,
   "id": "94534039-29cd-4a30-a183-6e0aa611e697",
   "metadata": {},
   "outputs": [
    {
     "name": "stdout",
     "output_type": "stream",
     "text": [
      "[2. 2. 2. 2. 2.]\n"
     ]
    }
   ],
   "source": [
    "#54\n",
    "import numpy as np\n",
    "\n",
    "def element_wise_division(arr1, arr2):\n",
    "    return arr1 / arr2\n",
    "\n",
    "# Example usage\n",
    "arr1 = np.arange(2, 11, 2)\n",
    "arr2 = np.arange(1, 6)\n",
    "result = element_wise_division(arr1, arr2)\n",
    "print(result)\n"
   ]
  },
  {
   "cell_type": "code",
   "execution_count": 55,
   "id": "f2d49b90-dff5-47de-8540-9489cbc50274",
   "metadata": {},
   "outputs": [
    {
     "name": "stdout",
     "output_type": "stream",
     "text": [
      "[ 1 16 27 16  5]\n"
     ]
    }
   ],
   "source": [
    "#55\n",
    "import numpy as np\n",
    "\n",
    "def element_wise_exponentiation(arr1, arr2):\n",
    "    return np.power(arr1, arr2)\n",
    "\n",
    "# Example usage\n",
    "arr1 = np.array([1, 2, 3, 4, 5])\n",
    "arr2 = np.array([5, 4, 3, 2, 1])\n",
    "result = element_wise_exponentiation(arr1, arr2)\n",
    "print(result)\n"
   ]
  },
  {
   "cell_type": "code",
   "execution_count": 56,
   "id": "dc8f21a7-e2af-40ce-b7f0-660ad3767df3",
   "metadata": {},
   "outputs": [
    {
     "name": "stdout",
     "output_type": "stream",
     "text": [
      "[1 0 1 0 1]\n"
     ]
    }
   ],
   "source": [
    "#56\n",
    "import numpy as np\n",
    "\n",
    "def count_substring_occurrences(arr, substring):\n",
    "    return np.char.count(arr, substring)\n",
    "\n",
    "# Example usage\n",
    "arr = np.array(['hello', 'world', 'hello', 'numpy', 'hello'])\n",
    "substring = 'hello'\n",
    "count = count_substring_occurrences(arr, substring)\n",
    "print(count)\n"
   ]
  },
  {
   "cell_type": "code",
   "execution_count": 57,
   "id": "ffea295a-161b-45c3-ae48-c0daae37dd78",
   "metadata": {},
   "outputs": [
    {
     "name": "stdout",
     "output_type": "stream",
     "text": [
      "['HELLO' 'WORLD' 'OPENAI' 'GPT']\n"
     ]
    }
   ],
   "source": [
    "#57\n",
    "import numpy as np\n",
    "\n",
    "def extract_uppercase_characters(arr):\n",
    "    return np.char.join('', np.char.upper(arr))\n",
    "\n",
    "# Example usage\n",
    "arr = np.array(['Hello', 'World', 'OpenAI', 'GPT'])\n",
    "uppercase_chars = extract_uppercase_characters(arr)\n",
    "print(uppercase_chars)\n"
   ]
  },
  {
   "cell_type": "code",
   "execution_count": 58,
   "id": "a960e9aa-dd95-4709-8df7-70fc70f8f3f6",
   "metadata": {},
   "outputs": [
    {
     "name": "stdout",
     "output_type": "stream",
     "text": [
      "['orange' 'banana' 'grape' 'pineorange']\n"
     ]
    }
   ],
   "source": [
    "#58\n",
    "import numpy as np\n",
    "\n",
    "def replace_substring(arr, old_substring, new_substring):\n",
    "    return np.char.replace(arr, old_substring, new_substring)\n",
    "\n",
    "# Example usage\n",
    "arr = np.array(['apple', 'banana', 'grape', 'pineapple'])\n",
    "result = replace_substring(arr, 'apple', 'orange')\n",
    "print(result)  # Output: ['orange' 'banana' 'grape' 'orange']\n"
   ]
  },
  {
   "cell_type": "code",
   "execution_count": 59,
   "id": "6737e1f2-84f7-4548-8f7d-94583107e885",
   "metadata": {},
   "outputs": [
    {
     "name": "stdout",
     "output_type": "stream",
     "text": [
      "['Hello Open' 'World AI']\n"
     ]
    }
   ],
   "source": [
    "#59\n",
    "import numpy as np\n",
    "\n",
    "def concatenate_strings(arr1, arr2):\n",
    "    return np.char.add(arr1, arr2)\n",
    "\n",
    "# Example usage\n",
    "arr1 = np.array(['Hello', 'World'])\n",
    "arr2 = np.array([' Open', ' AI'])\n",
    "result = concatenate_strings(arr1, arr2)\n",
    "print(result)  # Output: ['Hello Open' 'World AI']\n"
   ]
  },
  {
   "cell_type": "code",
   "execution_count": 60,
   "id": "60b9b0f2-1d8a-4e5c-b6b6-44bc41e4e2da",
   "metadata": {},
   "outputs": [
    {
     "name": "stdout",
     "output_type": "stream",
     "text": [
      "9\n"
     ]
    }
   ],
   "source": [
    "#60\n",
    "import numpy as np\n",
    "\n",
    "def longest_string_length(arr):\n",
    "    return np.max(np.char.str_len(arr))\n",
    "\n",
    "# Example usage\n",
    "arr = np.array(['apple', 'banana', 'grape', 'pineapple'])\n",
    "result = longest_string_length(arr)\n",
    "print(result)  # Output: 9\n"
   ]
  },
  {
   "cell_type": "code",
   "execution_count": 61,
   "id": "1f8825e1-bf9d-4ce1-bbb1-16141e47cf23",
   "metadata": {},
   "outputs": [
    {
     "name": "stdout",
     "output_type": "stream",
     "text": [
      "Mean: 553.33\n",
      "Median: 580.5\n",
      "Variance: 86956.5611\n",
      "Standard Deviation: 294.8839790493882\n"
     ]
    }
   ],
   "source": [
    "#61\n",
    "import numpy as np\n",
    "\n",
    "# Create a dataset of 100 random integers between 1 and 1000\n",
    "data = np.random.randint(1, 1001, size=100)\n",
    "\n",
    "mean = np.mean(data)\n",
    "median = np.median(data)\n",
    "variance = np.var(data)\n",
    "std_dev = np.std(data)\n",
    "\n",
    "print(f'Mean: {mean}')\n",
    "print(f'Median: {median}')\n",
    "print(f'Variance: {variance}')\n",
    "print(f'Standard Deviation: {std_dev}')\n"
   ]
  },
  {
   "cell_type": "code",
   "execution_count": 62,
   "id": "908cf02a-5a37-494c-b716-5bfb951ee464",
   "metadata": {},
   "outputs": [
    {
     "name": "stdout",
     "output_type": "stream",
     "text": [
      "25th Percentile: 33.25\n",
      "75th Percentile: 78.5\n"
     ]
    }
   ],
   "source": [
    "#62\n",
    "import numpy as np\n",
    "\n",
    "# Generate an array of 50 random numbers between 1 and 100\n",
    "data = np.random.randint(1, 101, size=50)\n",
    "\n",
    "percentile_25 = np.percentile(data, 25)\n",
    "percentile_75 = np.percentile(data, 75)\n",
    "\n",
    "print(f'25th Percentile: {percentile_25}')\n",
    "print(f'75th Percentile: {percentile_75}')\n"
   ]
  },
  {
   "cell_type": "code",
   "execution_count": 63,
   "id": "7b142836-319e-4d3a-bd48-d605e2d6d7d5",
   "metadata": {},
   "outputs": [
    {
     "name": "stdout",
     "output_type": "stream",
     "text": [
      "Correlation Coefficient: 1.0\n"
     ]
    }
   ],
   "source": [
    "#63\n",
    "import numpy as np\n",
    "\n",
    "arr1 = np.array([1, 2, 3])\n",
    "arr2 = np.array([4, 5, 6])\n",
    "\n",
    "correlation = np.corrcoef(arr1, arr2)[0, 1]\n",
    "print(f'Correlation Coefficient: {correlation}')\n"
   ]
  },
  {
   "cell_type": "code",
   "execution_count": 64,
   "id": "72173be6-bbc3-4901-9229-8232ad40cb08",
   "metadata": {},
   "outputs": [
    {
     "name": "stdout",
     "output_type": "stream",
     "text": [
      "[[19 22]\n",
      " [43 50]]\n"
     ]
    }
   ],
   "source": [
    "#64\n",
    "import numpy as np\n",
    "\n",
    "matrix1 = np.array([[1, 2], [3, 4]])\n",
    "matrix2 = np.array([[5, 6], [7, 8]])\n",
    "\n",
    "result = np.dot(matrix1, matrix2)\n",
    "print(result)\n"
   ]
  },
  {
   "cell_type": "code",
   "execution_count": 65,
   "id": "e4ffa196-27fa-494e-91ef-a7bb295745b7",
   "metadata": {},
   "outputs": [
    {
     "name": "stdout",
     "output_type": "stream",
     "text": [
      "10th Percentile: 170.7\n",
      "50th Percentile (Median): 584.0\n",
      "90th Percentile: 913.2\n",
      "1st Quartile: 337.25\n",
      "3rd Quartile: 778.0\n"
     ]
    }
   ],
   "source": [
    "#65\n",
    "import numpy as np\n",
    "\n",
    "data = np.random.randint(10, 1001, size=50)\n",
    "\n",
    "percentile_10 = np.percentile(data, 10)\n",
    "percentile_50 = np.percentile(data, 50)\n",
    "percentile_90 = np.percentile(data, 90)\n",
    "\n",
    "quartile_1 = np.percentile(data, 25)\n",
    "quartile_3 = np.percentile(data, 75)\n",
    "\n",
    "print(f'10th Percentile: {percentile_10}')\n",
    "print(f'50th Percentile (Median): {percentile_50}')\n",
    "print(f'90th Percentile: {percentile_90}')\n",
    "print(f'1st Quartile: {quartile_1}')\n",
    "print(f'3rd Quartile: {quartile_3}')\n"
   ]
  },
  {
   "cell_type": "code",
   "execution_count": 66,
   "id": "c8fc509e-d048-4cba-8d63-dbddbbb64a1a",
   "metadata": {},
   "outputs": [
    {
     "name": "stdout",
     "output_type": "stream",
     "text": [
      "Index of 30: [2]\n"
     ]
    }
   ],
   "source": [
    "#66\n",
    "import numpy as np\n",
    "\n",
    "arr = np.array([10, 20, 30, 40, 50])\n",
    "\n",
    "index = np.where(arr == 30)[0]\n",
    "print(f'Index of 30: {index}')\n"
   ]
  },
  {
   "cell_type": "code",
   "execution_count": 67,
   "id": "ed4f7568-17e5-4ee0-8f56-8fe60b2db878",
   "metadata": {},
   "outputs": [
    {
     "name": "stdout",
     "output_type": "stream",
     "text": [
      "Sorted Array: [ 3  5  7 12 19 29 33 36 48 50 56 58 66 68 68 70 72 73 79 88]\n"
     ]
    }
   ],
   "source": [
    "#67\n",
    "import numpy as np\n",
    "\n",
    "arr = np.random.randint(1, 100, size=20)\n",
    "sorted_arr = np.sort(arr)\n",
    "print(f'Sorted Array: {sorted_arr}')\n"
   ]
  },
  {
   "cell_type": "code",
   "execution_count": null,
   "id": "e98aa8d8-089e-473b-8802-f154639b01a4",
   "metadata": {},
   "outputs": [],
   "source": [
    "#"
   ]
  }
 ],
 "metadata": {
  "kernelspec": {
   "display_name": "Python 3 (ipykernel)",
   "language": "python",
   "name": "python3"
  },
  "language_info": {
   "codemirror_mode": {
    "name": "ipython",
    "version": 3
   },
   "file_extension": ".py",
   "mimetype": "text/x-python",
   "name": "python",
   "nbconvert_exporter": "python",
   "pygments_lexer": "ipython3",
   "version": "3.10.8"
  }
 },
 "nbformat": 4,
 "nbformat_minor": 5
}
